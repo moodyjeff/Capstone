{
 "cells": [
  {
   "cell_type": "code",
   "execution_count": 1,
   "metadata": {},
   "outputs": [],
   "source": [
    "# Ignore  the warnings\n",
    "import warnings\n",
    "warnings.filterwarnings('always')\n",
    "warnings.filterwarnings('ignore')\n",
    "\n",
    "import pandas as pd\n",
    "import matplotlib.pyplot as plt\n",
    "import numpy as np\n",
    "import imageio\n",
    "import os\n",
    "from sklearn.model_selection import train_test_split\n",
    "from tensorflow.keras.preprocessing.image import load_img\n",
    "from tensorflow.keras.preprocessing.image import img_to_array\n",
    "from IPython.display import display \n",
    "from PIL import Image\n",
    "import tensorflow as tf\n",
    "# import keras\n",
    "from tensorflow.keras.models import Sequential\n",
    "from tensorflow.keras.layers import Dense\n",
    "from tensorflow.keras.optimizers import Adam,SGD,Adagrad,Adadelta,RMSprop\n",
    "from tensorflow.keras.applications.mobilenet import preprocess_input\n",
    "from tensorflow.keras.preprocessing.image import ImageDataGenerator\n",
    "\n",
    "from tensorflow.keras.layers import Dropout, Flatten,Activation\n",
    "from tensorflow.keras.layers import Conv2D, MaxPooling2D, BatchNormalization\n",
    "from tensorflow.keras.layers import Dense,GlobalAveragePooling2D\n",
    "from tensorflow.keras.applications import MobileNet\n",
    "from tensorflow.keras.models import Model\n",
    "from sklearn.preprocessing import LabelEncoder\n",
    "from tensorflow.keras.utils import to_categorical\n"
   ]
  },
  {
   "cell_type": "code",
   "execution_count": 6,
   "metadata": {},
   "outputs": [],
   "source": [
    "classes = os.listdir('flowers/flowers')[1:]"
   ]
  },
  {
   "cell_type": "code",
   "execution_count": 7,
   "metadata": {},
   "outputs": [
    {
     "data": {
      "text/plain": [
       "['daisy', 'sunflower', 'rose', 'dandelion', 'tulip']"
      ]
     },
     "execution_count": 7,
     "metadata": {},
     "output_type": "execute_result"
    }
   ],
   "source": [
    "classes"
   ]
  },
  {
   "cell_type": "code",
   "execution_count": 8,
   "metadata": {},
   "outputs": [],
   "source": [
    "# create list for image arrays\n",
    "X = []\n",
    "# create list for y variable, class tracking \n",
    "y= []\n",
    "\n",
    "\n",
    "for label in classes:\n",
    "    direct = (f'flowers/flowers/{label}')\n",
    "#     print(direct)\n",
    "    for fl in os.listdir(f'{direct}'):\n",
    "        if fl  != '.DS_Store':\n",
    "            img_file = (f'{direct}/{fl}')\n",
    "        # create image variable\n",
    "        # resize image\n",
    "            img = load_img(img_file,target_size=(224,224))\n",
    "        # convert image to array\n",
    "            img = img_to_array(img)\n",
    "\n",
    "        # append image array to X list\n",
    "            X.append(img)\n",
    "        # append label to y list\n",
    "            y.append(label)\n",
    "        \n",
    "\n"
   ]
  },
  {
   "cell_type": "code",
   "execution_count": 9,
   "metadata": {},
   "outputs": [],
   "source": [
    "# set X as numpy array\n",
    "X=np.array(X)"
   ]
  },
  {
   "cell_type": "code",
   "execution_count": 10,
   "metadata": {},
   "outputs": [],
   "source": [
    "# transoform y values to numbers\n",
    "le = LabelEncoder()\n",
    "le.fit(y)\n",
    "y = le.transform(y)"
   ]
  },
  {
   "cell_type": "code",
   "execution_count": 27,
   "metadata": {},
   "outputs": [],
   "source": [
    "# use train test split to obtain test set and use remainder for train validation split\n",
    "X_rem, X_test, y_rem, y_test = train_test_split(X,y,test_size=.2)"
   ]
  },
  {
   "cell_type": "code",
   "execution_count": 28,
   "metadata": {},
   "outputs": [],
   "source": [
    "# create train/validation split\n",
    "X_train, X_val, y_train, y_val = train_test_split(X_rem,y_rem,test_size=.2)"
   ]
  },
  {
   "cell_type": "code",
   "execution_count": 29,
   "metadata": {},
   "outputs": [],
   "source": [
    "# divide x variables by 255\n",
    "X_train = X_train/255\n",
    "X_val = X_val/255\n",
    "X_test = X_test/255"
   ]
  },
  {
   "cell_type": "code",
   "execution_count": 30,
   "metadata": {},
   "outputs": [],
   "source": [
    "# one hot encode y variables\n",
    "y_train = to_categorical(y_train,num_classes=5)\n",
    "y_val = to_categorical(y_val,num_classes=5)\n",
    "y_test = to_categorical(y_test,num_classes=5)"
   ]
  },
  {
   "cell_type": "code",
   "execution_count": 12,
   "metadata": {},
   "outputs": [],
   "source": [
    "# \n",
    "train_datagen = ImageDataGenerator(rescale=1./255,preprocessing_function=preprocess_input,validation_split=0.2)"
   ]
  },
  {
   "cell_type": "code",
   "execution_count": 16,
   "metadata": {},
   "outputs": [],
   "source": [
    "# create train data generator\n",
    "train_generator = train_datagen.flow(X_train,y_train, # path to the data folder\n",
    "                                                 shuffle=True,\n",
    "                                                 subset='training')\n",
    "\n",
    "# create validation data generator\n",
    "validation_generator = train_datagen.flow(X_train,y_train, # path to the data folder                   \n",
    "                                                 batch_size=128,\n",
    "                                                 shuffle=True,\n",
    "                                                 subset='validation')\n",
    "\n"
   ]
  },
  {
   "cell_type": "code",
   "execution_count": 18,
   "metadata": {},
   "outputs": [],
   "source": [
    "# get step size\n",
    "step_size_train = train_generator.n//train_generator.batch_size"
   ]
  },
  {
   "cell_type": "code",
   "execution_count": 31,
   "metadata": {},
   "outputs": [],
   "source": [
    "# Import the pretrained MobileNet model and do not include the final layer:\n",
    "model = MobileNet(weights='imagenet', include_top=False)\n",
    "\n",
    "\n",
    "# Assign the output of this base_model to a variable:\n",
    "model = model.output\n",
    "# add global pooling layer \n",
    "model = GlobalAveragePooling2D()(model)\n",
    "\n",
    "# add 4 dense layers and a final layer of 5 for the 5 classes\n",
    "model = Dense(243, activation='relu')(model) \n",
    "model = Dense(243, activation='relu')(model)\n",
    "model = Dense(81, activation='relu')(model)\n",
    "preds = Dense(5, activation='softmax')(model)\n",
    "\n",
    "model = model(inputs = base_model.input, \n",
    "              outputs = preds)"
   ]
  },
  {
   "cell_type": "code",
   "execution_count": 33,
   "metadata": {},
   "outputs": [
    {
     "name": "stdout",
     "output_type": "stream",
     "text": [
      "Model: \"model_1\"\n",
      "_________________________________________________________________\n",
      "Layer (type)                 Output Shape              Param #   \n",
      "=================================================================\n",
      "input_2 (InputLayer)         [(None, None, None, 3)]   0         \n",
      "_________________________________________________________________\n",
      "conv1_pad (ZeroPadding2D)    (None, None, None, 3)     0         \n",
      "_________________________________________________________________\n",
      "conv1 (Conv2D)               (None, None, None, 32)    864       \n",
      "_________________________________________________________________\n",
      "conv1_bn (BatchNormalization (None, None, None, 32)    128       \n",
      "_________________________________________________________________\n",
      "conv1_relu (ReLU)            (None, None, None, 32)    0         \n",
      "_________________________________________________________________\n",
      "conv_dw_1 (DepthwiseConv2D)  (None, None, None, 32)    288       \n",
      "_________________________________________________________________\n",
      "conv_dw_1_bn (BatchNormaliza (None, None, None, 32)    128       \n",
      "_________________________________________________________________\n",
      "conv_dw_1_relu (ReLU)        (None, None, None, 32)    0         \n",
      "_________________________________________________________________\n",
      "conv_pw_1 (Conv2D)           (None, None, None, 64)    2048      \n",
      "_________________________________________________________________\n",
      "conv_pw_1_bn (BatchNormaliza (None, None, None, 64)    256       \n",
      "_________________________________________________________________\n",
      "conv_pw_1_relu (ReLU)        (None, None, None, 64)    0         \n",
      "_________________________________________________________________\n",
      "conv_pad_2 (ZeroPadding2D)   (None, None, None, 64)    0         \n",
      "_________________________________________________________________\n",
      "conv_dw_2 (DepthwiseConv2D)  (None, None, None, 64)    576       \n",
      "_________________________________________________________________\n",
      "conv_dw_2_bn (BatchNormaliza (None, None, None, 64)    256       \n",
      "_________________________________________________________________\n",
      "conv_dw_2_relu (ReLU)        (None, None, None, 64)    0         \n",
      "_________________________________________________________________\n",
      "conv_pw_2 (Conv2D)           (None, None, None, 128)   8192      \n",
      "_________________________________________________________________\n",
      "conv_pw_2_bn (BatchNormaliza (None, None, None, 128)   512       \n",
      "_________________________________________________________________\n",
      "conv_pw_2_relu (ReLU)        (None, None, None, 128)   0         \n",
      "_________________________________________________________________\n",
      "conv_dw_3 (DepthwiseConv2D)  (None, None, None, 128)   1152      \n",
      "_________________________________________________________________\n",
      "conv_dw_3_bn (BatchNormaliza (None, None, None, 128)   512       \n",
      "_________________________________________________________________\n",
      "conv_dw_3_relu (ReLU)        (None, None, None, 128)   0         \n",
      "_________________________________________________________________\n",
      "conv_pw_3 (Conv2D)           (None, None, None, 128)   16384     \n",
      "_________________________________________________________________\n",
      "conv_pw_3_bn (BatchNormaliza (None, None, None, 128)   512       \n",
      "_________________________________________________________________\n",
      "conv_pw_3_relu (ReLU)        (None, None, None, 128)   0         \n",
      "_________________________________________________________________\n",
      "conv_pad_4 (ZeroPadding2D)   (None, None, None, 128)   0         \n",
      "_________________________________________________________________\n",
      "conv_dw_4 (DepthwiseConv2D)  (None, None, None, 128)   1152      \n",
      "_________________________________________________________________\n",
      "conv_dw_4_bn (BatchNormaliza (None, None, None, 128)   512       \n",
      "_________________________________________________________________\n",
      "conv_dw_4_relu (ReLU)        (None, None, None, 128)   0         \n",
      "_________________________________________________________________\n",
      "conv_pw_4 (Conv2D)           (None, None, None, 256)   32768     \n",
      "_________________________________________________________________\n",
      "conv_pw_4_bn (BatchNormaliza (None, None, None, 256)   1024      \n",
      "_________________________________________________________________\n",
      "conv_pw_4_relu (ReLU)        (None, None, None, 256)   0         \n",
      "_________________________________________________________________\n",
      "conv_dw_5 (DepthwiseConv2D)  (None, None, None, 256)   2304      \n",
      "_________________________________________________________________\n",
      "conv_dw_5_bn (BatchNormaliza (None, None, None, 256)   1024      \n",
      "_________________________________________________________________\n",
      "conv_dw_5_relu (ReLU)        (None, None, None, 256)   0         \n",
      "_________________________________________________________________\n",
      "conv_pw_5 (Conv2D)           (None, None, None, 256)   65536     \n",
      "_________________________________________________________________\n",
      "conv_pw_5_bn (BatchNormaliza (None, None, None, 256)   1024      \n",
      "_________________________________________________________________\n",
      "conv_pw_5_relu (ReLU)        (None, None, None, 256)   0         \n",
      "_________________________________________________________________\n",
      "conv_pad_6 (ZeroPadding2D)   (None, None, None, 256)   0         \n",
      "_________________________________________________________________\n",
      "conv_dw_6 (DepthwiseConv2D)  (None, None, None, 256)   2304      \n",
      "_________________________________________________________________\n",
      "conv_dw_6_bn (BatchNormaliza (None, None, None, 256)   1024      \n",
      "_________________________________________________________________\n",
      "conv_dw_6_relu (ReLU)        (None, None, None, 256)   0         \n",
      "_________________________________________________________________\n",
      "conv_pw_6 (Conv2D)           (None, None, None, 512)   131072    \n",
      "_________________________________________________________________\n",
      "conv_pw_6_bn (BatchNormaliza (None, None, None, 512)   2048      \n",
      "_________________________________________________________________\n",
      "conv_pw_6_relu (ReLU)        (None, None, None, 512)   0         \n",
      "_________________________________________________________________\n",
      "conv_dw_7 (DepthwiseConv2D)  (None, None, None, 512)   4608      \n",
      "_________________________________________________________________\n",
      "conv_dw_7_bn (BatchNormaliza (None, None, None, 512)   2048      \n",
      "_________________________________________________________________\n",
      "conv_dw_7_relu (ReLU)        (None, None, None, 512)   0         \n",
      "_________________________________________________________________\n",
      "conv_pw_7 (Conv2D)           (None, None, None, 512)   262144    \n",
      "_________________________________________________________________\n",
      "conv_pw_7_bn (BatchNormaliza (None, None, None, 512)   2048      \n",
      "_________________________________________________________________\n",
      "conv_pw_7_relu (ReLU)        (None, None, None, 512)   0         \n",
      "_________________________________________________________________\n",
      "conv_dw_8 (DepthwiseConv2D)  (None, None, None, 512)   4608      \n",
      "_________________________________________________________________\n",
      "conv_dw_8_bn (BatchNormaliza (None, None, None, 512)   2048      \n",
      "_________________________________________________________________\n",
      "conv_dw_8_relu (ReLU)        (None, None, None, 512)   0         \n",
      "_________________________________________________________________\n",
      "conv_pw_8 (Conv2D)           (None, None, None, 512)   262144    \n",
      "_________________________________________________________________\n",
      "conv_pw_8_bn (BatchNormaliza (None, None, None, 512)   2048      \n",
      "_________________________________________________________________\n",
      "conv_pw_8_relu (ReLU)        (None, None, None, 512)   0         \n",
      "_________________________________________________________________\n",
      "conv_dw_9 (DepthwiseConv2D)  (None, None, None, 512)   4608      \n",
      "_________________________________________________________________\n",
      "conv_dw_9_bn (BatchNormaliza (None, None, None, 512)   2048      \n",
      "_________________________________________________________________\n",
      "conv_dw_9_relu (ReLU)        (None, None, None, 512)   0         \n",
      "_________________________________________________________________\n",
      "conv_pw_9 (Conv2D)           (None, None, None, 512)   262144    \n",
      "_________________________________________________________________\n",
      "conv_pw_9_bn (BatchNormaliza (None, None, None, 512)   2048      \n",
      "_________________________________________________________________\n",
      "conv_pw_9_relu (ReLU)        (None, None, None, 512)   0         \n",
      "_________________________________________________________________\n",
      "conv_dw_10 (DepthwiseConv2D) (None, None, None, 512)   4608      \n",
      "_________________________________________________________________\n",
      "conv_dw_10_bn (BatchNormaliz (None, None, None, 512)   2048      \n",
      "_________________________________________________________________\n",
      "conv_dw_10_relu (ReLU)       (None, None, None, 512)   0         \n",
      "_________________________________________________________________\n",
      "conv_pw_10 (Conv2D)          (None, None, None, 512)   262144    \n",
      "_________________________________________________________________\n",
      "conv_pw_10_bn (BatchNormaliz (None, None, None, 512)   2048      \n",
      "_________________________________________________________________\n",
      "conv_pw_10_relu (ReLU)       (None, None, None, 512)   0         \n",
      "_________________________________________________________________\n",
      "conv_dw_11 (DepthwiseConv2D) (None, None, None, 512)   4608      \n",
      "_________________________________________________________________\n",
      "conv_dw_11_bn (BatchNormaliz (None, None, None, 512)   2048      \n",
      "_________________________________________________________________\n",
      "conv_dw_11_relu (ReLU)       (None, None, None, 512)   0         \n",
      "_________________________________________________________________\n",
      "conv_pw_11 (Conv2D)          (None, None, None, 512)   262144    \n",
      "_________________________________________________________________\n",
      "conv_pw_11_bn (BatchNormaliz (None, None, None, 512)   2048      \n",
      "_________________________________________________________________\n",
      "conv_pw_11_relu (ReLU)       (None, None, None, 512)   0         \n",
      "_________________________________________________________________\n",
      "conv_pad_12 (ZeroPadding2D)  (None, None, None, 512)   0         \n",
      "_________________________________________________________________\n",
      "conv_dw_12 (DepthwiseConv2D) (None, None, None, 512)   4608      \n",
      "_________________________________________________________________\n",
      "conv_dw_12_bn (BatchNormaliz (None, None, None, 512)   2048      \n",
      "_________________________________________________________________\n",
      "conv_dw_12_relu (ReLU)       (None, None, None, 512)   0         \n",
      "_________________________________________________________________\n",
      "conv_pw_12 (Conv2D)          (None, None, None, 1024)  524288    \n",
      "_________________________________________________________________\n",
      "conv_pw_12_bn (BatchNormaliz (None, None, None, 1024)  4096      \n",
      "_________________________________________________________________\n",
      "conv_pw_12_relu (ReLU)       (None, None, None, 1024)  0         \n",
      "_________________________________________________________________\n",
      "conv_dw_13 (DepthwiseConv2D) (None, None, None, 1024)  9216      \n",
      "_________________________________________________________________\n",
      "conv_dw_13_bn (BatchNormaliz (None, None, None, 1024)  4096      \n",
      "_________________________________________________________________\n",
      "conv_dw_13_relu (ReLU)       (None, None, None, 1024)  0         \n",
      "_________________________________________________________________\n",
      "conv_pw_13 (Conv2D)          (None, None, None, 1024)  1048576   \n",
      "_________________________________________________________________\n",
      "conv_pw_13_bn (BatchNormaliz (None, None, None, 1024)  4096      \n",
      "_________________________________________________________________\n",
      "conv_pw_13_relu (ReLU)       (None, None, None, 1024)  0         \n",
      "_________________________________________________________________\n",
      "global_average_pooling2d_1 ( (None, 1024)              0         \n",
      "_________________________________________________________________\n",
      "dense_4 (Dense)              (None, 243)               249075    \n",
      "_________________________________________________________________\n",
      "dense_5 (Dense)              (None, 243)               59292     \n",
      "_________________________________________________________________\n",
      "dense_6 (Dense)              (None, 81)                19764     \n",
      "_________________________________________________________________\n",
      "dense_7 (Dense)              (None, 5)                 410       \n",
      "=================================================================\n",
      "Total params: 3,557,405\n",
      "Trainable params: 3,535,517\n",
      "Non-trainable params: 21,888\n",
      "_________________________________________________________________\n"
     ]
    }
   ],
   "source": [
    "# view summary of model\n",
    "model.summary()"
   ]
  },
  {
   "cell_type": "code",
   "execution_count": 34,
   "metadata": {},
   "outputs": [],
   "source": [
    "# set mobilenet model layers to be not trainable\n",
    "for layer in model.layers[:87]:\n",
    "    layer.trainable=False\n",
    "    \n"
   ]
  },
  {
   "cell_type": "code",
   "execution_count": 35,
   "metadata": {},
   "outputs": [],
   "source": [
    "# compile model using Adam optimizer\n",
    "model.compile(optimizer='Adam',\n",
    "              loss='categorical_crossentropy',\n",
    "              metrics=['accuracy'])"
   ]
  },
  {
   "cell_type": "code",
   "execution_count": 36,
   "metadata": {},
   "outputs": [
    {
     "name": "stdout",
     "output_type": "stream",
     "text": [
      "Train on 2766 samples, validate on 692 samples\n",
      "Epoch 1/20\n",
      "2766/2766 [==============================] - 3s 1ms/sample - loss: 0.9619 - acc: 0.6580 - val_loss: 0.9332 - val_acc: 0.6373\n",
      "Epoch 2/20\n",
      "2766/2766 [==============================] - 2s 670us/sample - loss: 0.3974 - acc: 0.8594 - val_loss: 0.6466 - val_acc: 0.7645\n",
      "Epoch 3/20\n",
      "2766/2766 [==============================] - 2s 672us/sample - loss: 0.2683 - acc: 0.9082 - val_loss: 0.6599 - val_acc: 0.7673\n",
      "Epoch 4/20\n",
      "2766/2766 [==============================] - 2s 679us/sample - loss: 0.2066 - acc: 0.9371 - val_loss: 0.8070 - val_acc: 0.7442\n",
      "Epoch 5/20\n",
      "2766/2766 [==============================] - 2s 676us/sample - loss: 0.1820 - acc: 0.9378 - val_loss: 0.6131 - val_acc: 0.7890\n",
      "Epoch 6/20\n",
      "2766/2766 [==============================] - 2s 672us/sample - loss: 0.1184 - acc: 0.9660 - val_loss: 0.7541 - val_acc: 0.7514\n",
      "Epoch 7/20\n",
      "2766/2766 [==============================] - 2s 673us/sample - loss: 0.0836 - acc: 0.9747 - val_loss: 0.7121 - val_acc: 0.7789\n",
      "Epoch 8/20\n",
      "2766/2766 [==============================] - 2s 672us/sample - loss: 0.0513 - acc: 0.9881 - val_loss: 0.8683 - val_acc: 0.7543\n",
      "Epoch 9/20\n",
      "2766/2766 [==============================] - 2s 676us/sample - loss: 0.0498 - acc: 0.9866 - val_loss: 0.7578 - val_acc: 0.7977\n",
      "Epoch 10/20\n",
      "2766/2766 [==============================] - 2s 672us/sample - loss: 0.0493 - acc: 0.9830 - val_loss: 0.9683 - val_acc: 0.7486\n",
      "Epoch 11/20\n",
      "2766/2766 [==============================] - 2s 673us/sample - loss: 0.0414 - acc: 0.9866 - val_loss: 0.8222 - val_acc: 0.7717\n",
      "Epoch 12/20\n",
      "2766/2766 [==============================] - 2s 672us/sample - loss: 0.0419 - acc: 0.9852 - val_loss: 0.9900 - val_acc: 0.7500\n",
      "Epoch 13/20\n",
      "2766/2766 [==============================] - 2s 676us/sample - loss: 0.0258 - acc: 0.9935 - val_loss: 1.0343 - val_acc: 0.7587\n",
      "Epoch 14/20\n",
      "2766/2766 [==============================] - 2s 678us/sample - loss: 0.0303 - acc: 0.9906 - val_loss: 0.8972 - val_acc: 0.7832\n",
      "Epoch 15/20\n",
      "2766/2766 [==============================] - 2s 674us/sample - loss: 0.0189 - acc: 0.9946 - val_loss: 0.8082 - val_acc: 0.7962\n",
      "Epoch 16/20\n",
      "2766/2766 [==============================] - 2s 673us/sample - loss: 0.0228 - acc: 0.9942 - val_loss: 1.1647 - val_acc: 0.7442\n",
      "Epoch 17/20\n",
      "2766/2766 [==============================] - 2s 673us/sample - loss: 0.0182 - acc: 0.9946 - val_loss: 1.0941 - val_acc: 0.7457\n",
      "Epoch 18/20\n",
      "2766/2766 [==============================] - 2s 676us/sample - loss: 0.0285 - acc: 0.9913 - val_loss: 0.7564 - val_acc: 0.8410\n",
      "Epoch 19/20\n",
      "2766/2766 [==============================] - 2s 676us/sample - loss: 0.0277 - acc: 0.9920 - val_loss: 0.7551 - val_acc: 0.8223\n",
      "Epoch 20/20\n",
      "2766/2766 [==============================] - 2s 677us/sample - loss: 0.0291 - acc: 0.9892 - val_loss: 0.7840 - val_acc: 0.8266\n"
     ]
    }
   ],
   "source": [
    "# fit model on train data and val data using 20 epochs\n",
    "history = model.fit(X_train,y_train, \n",
    "                        epochs=20, batch_size=128,\n",
    "                        validation_data=(X_val,y_val))"
   ]
  },
  {
   "cell_type": "code",
   "execution_count": 38,
   "metadata": {},
   "outputs": [
    {
     "name": "stdout",
     "output_type": "stream",
     "text": [
      "865/865 [==============================] - 1s 749us/sample - loss: 0.7620 - acc: 0.8347\n"
     ]
    },
    {
     "data": {
      "text/plain": [
       "[0.7619696471732476, 0.8346821]"
      ]
     },
     "execution_count": 38,
     "metadata": {},
     "output_type": "execute_result"
    }
   ],
   "source": [
    "# evaluate the model on test data\n",
    "model.evaluate(X_test,y_test,batch_size=128)\n",
    "\n"
   ]
  }
 ],
 "metadata": {
  "kernelspec": {
   "display_name": "Python 3",
   "language": "python",
   "name": "python3"
  },
  "language_info": {
   "codemirror_mode": {
    "name": "ipython",
    "version": 3
   },
   "file_extension": ".py",
   "mimetype": "text/x-python",
   "name": "python",
   "nbconvert_exporter": "python",
   "pygments_lexer": "ipython3",
   "version": "3.7.3"
  }
 },
 "nbformat": 4,
 "nbformat_minor": 4
}
